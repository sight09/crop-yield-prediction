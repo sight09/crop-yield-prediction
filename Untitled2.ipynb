{
  "nbformat": 4,
  "nbformat_minor": 0,
  "metadata": {
    "colab": {
      "provenance": []
    },
    "kernelspec": {
      "name": "python3",
      "display_name": "Python 3"
    },
    "language_info": {
      "name": "python"
    }
  },
  "cells": [
    {
      "cell_type": "markdown",
      "source": [
        "**Crop Yield Prediction for Food Security (SDG 2: Zero Hunger)**\n",
        "\n",
        "🏁 1. Project Overview\n",
        "\n",
        "SDG Goal: SDG 2 – Zero Hunger\n",
        "\n",
        "Problem Statement:\n",
        "Unpredictable weather patterns make it hard for farmers to estimate crop yields. This project uses machine learning to predict crop yield based on environmental factors such as rainfall, temperature, pesticide use, and soil quality.\n",
        "\n",
        "Objective:\n",
        "To build a regression model that predicts crop yield to help farmers and policymakers improve food security and resource allocation.\n",
        "\n",
        "📊 2. Import Libraries"
      ],
      "metadata": {
        "id": "0itMLZ8SMLVz"
      }
    },
    {
      "cell_type": "code",
      "source": [
        "# Basic Libraries\n",
        "import pandas as pd\n",
        "import numpy as np\n",
        "\n",
        "# Visualization\n",
        "import matplotlib.pyplot as plt\n",
        "import seaborn as sns\n",
        "\n",
        "# Machine Learning\n",
        "from sklearn.model_selection import train_test_split\n",
        "from sklearn.linear_model import LinearRegression\n",
        "from sklearn.ensemble import RandomForestRegressor\n",
        "from sklearn.metrics import mean_absolute_error, r2_score\n"
      ],
      "metadata": {
        "id": "oPB_4NDHMVRK"
      },
      "execution_count": null,
      "outputs": []
    },
    {
      "cell_type": "markdown",
      "source": [
        "3. Load and Explore Dataset"
      ],
      "metadata": {
        "id": "ciETr56kMyN0"
      }
    },
    {
      "cell_type": "code",
      "source": [
        "# Load dataset (replace with your dataset name)\n",
        "df = pd.read_csv(\"crop_yield.csv\")\n",
        "\n",
        "# Display the first few rows\n",
        "df.head()\n",
        "# Dataset information\n",
        "df.info()\n",
        "# Summary statistics\n",
        "df.describe()\n"
      ],
      "metadata": {
        "id": "-SDrQlO9M2nc"
      },
      "execution_count": null,
      "outputs": []
    },
    {
      "cell_type": "markdown",
      "source": [
        "🧹 4. Data Cleaning and Preprocessing"
      ],
      "metadata": {
        "id": "KYBcz_-9NFBI"
      }
    },
    {
      "cell_type": "code",
      "source": [
        "# Check for missing values\n",
        "df.isnull().sum()\n",
        "# Fill missing values with column mean (for numeric data)\n",
        "df.fillna(df.mean(), inplace=True)\n",
        "# Drop duplicates if any\n",
        "df.drop_duplicates(inplace=True)\n",
        "# Verify data is clean\n",
        "df.isnull().sum()\n"
      ],
      "metadata": {
        "id": "V1NkAh9VNHZ9"
      },
      "execution_count": null,
      "outputs": []
    },
    {
      "cell_type": "markdown",
      "source": [
        "📈 5. Exploratory Data Analysis (EDA)"
      ],
      "metadata": {
        "id": "vX4hUbOxNWTY"
      }
    },
    {
      "cell_type": "code",
      "source": [
        "# Correlation Heatmap\n",
        "plt.figure(figsize=(8,6))\n",
        "sns.heatmap(df.corr(), annot=True, cmap='Greens')\n",
        "plt.title(\"Correlation Heatmap\")\n",
        "plt.show()\n",
        "# Distribution of Crop Yield\n",
        "plt.figure(figsize=(7,5))\n",
        "sns.histplot(df['yield'], bins=20, kde=True, color='green')\n",
        "plt.title(\"Crop Yield Distribution\")\n",
        "plt.xlabel(\"Yield\")\n",
        "plt.ylabel(\"Frequency\")\n",
        "plt.show()\n",
        "# Scatter plot: Rainfall vs Yield\n",
        "plt.scatter(df['average_rainfall'], df['yield'], color='blue')\n",
        "plt.xlabel('Average Rainfall (mm)')\n",
        "plt.ylabel('Crop Yield')\n",
        "plt.title('Rainfall vs Crop Yield')\n",
        "plt.show()\n"
      ],
      "metadata": {
        "id": "DP2Wp-ZdNZWi"
      },
      "execution_count": null,
      "outputs": []
    },
    {
      "cell_type": "markdown",
      "source": [
        "6. Feature Selection\n",
        "\n",
        "Choose features that influence crop yield (you can adjust based on your dataset columns)"
      ],
      "metadata": {
        "id": "mzZzH1D_NYqj"
      }
    },
    {
      "cell_type": "code",
      "source": [
        "# Example feature selection\n",
        "X = df[['average_rainfall', 'avg_temp', 'pesticide_use', 'soil_quality']]\n",
        "y = df['yield']\n",
        "\n"
      ],
      "metadata": {
        "id": "wv5MBdfFNoU6"
      },
      "execution_count": null,
      "outputs": []
    },
    {
      "cell_type": "markdown",
      "source": [
        "🔀 7. Split Dataset"
      ],
      "metadata": {
        "id": "zQ6pSMkwNvSn"
      }
    },
    {
      "cell_type": "code",
      "source": [
        "X_train, X_test, y_train, y_test = train_test_split(\n",
        "    X, y, test_size=0.2, random_state=42\n",
        ")\n"
      ],
      "metadata": {
        "id": "wLaJyj5jNznz"
      },
      "execution_count": null,
      "outputs": []
    },
    {
      "cell_type": "markdown",
      "source": [
        "🤖 8. Model Training\n",
        "🧩 Linear Regression"
      ],
      "metadata": {
        "id": "sHg0BCt9N28K"
      }
    },
    {
      "cell_type": "code",
      "source": [
        "lr = LinearRegression()\n",
        "lr.fit(X_train, y_train)\n",
        "y_pred_lr = lr.predict(X_test)\n"
      ],
      "metadata": {
        "id": "Qf6zbvWkN2Mo"
      },
      "execution_count": null,
      "outputs": []
    },
    {
      "cell_type": "markdown",
      "source": [
        "🌳 Random Forest Regressor"
      ],
      "metadata": {
        "id": "9MesVegnN_Tg"
      }
    },
    {
      "cell_type": "code",
      "source": [
        "rf = RandomForestRegressor(n_estimators=100, random_state=42)\n",
        "rf.fit(X_train, y_train)\n",
        "y_pred_rf = rf.predict(X_test)\n"
      ],
      "metadata": {
        "id": "wv_grQ8ZOBoO"
      },
      "execution_count": null,
      "outputs": []
    },
    {
      "cell_type": "markdown",
      "source": [
        "📊 9. Model Evaluation"
      ],
      "metadata": {
        "id": "zNwjU6qpOE9K"
      }
    },
    {
      "cell_type": "code",
      "source": [
        "# Evaluate both models\n",
        "print(\"Linear Regression R²:\", r2_score(y_test, y_pred_lr))\n",
        "print(\"Random Forest R²:\", r2_score(y_test, y_pred_rf))\n",
        "print(\"Random Forest MAE:\", mean_absolute_error(y_test, y_pred_rf))\n",
        "# Visualization: Actual vs Predicted (Random Forest)\n",
        "plt.figure(figsize=(7,5))\n",
        "plt.scatter(y_test, y_pred_rf, color='green')\n",
        "plt.xlabel(\"Actual Yield\")\n",
        "plt.ylabel(\"Predicted Yield\")\n",
        "plt.title(\"Actual vs Predicted Crop Yield (Random Forest)\")\n",
        "plt.show()\n"
      ],
      "metadata": {
        "id": "a21gK2caOHKF"
      },
      "execution_count": null,
      "outputs": []
    },
    {
      "cell_type": "markdown",
      "source": [
        "📘 10. Results Summary"
      ],
      "metadata": {
        "id": "mH3cU9ftOLIQ"
      }
    },
    {
      "cell_type": "code",
      "source": [
        "results = pd.DataFrame({\n",
        "    'Model': ['Linear Regression', 'Random Forest'],\n",
        "    'R2 Score': [r2_score(y_test, y_pred_lr), r2_score(y_test, y_pred_rf)],\n",
        "    'MAE': [mean_absolute_error(y_test, y_pred_lr), mean_absolute_error(y_test, y_pred_rf)]\n",
        "})\n",
        "\n",
        "results\n"
      ],
      "metadata": {
        "id": "plwonK-zOQ5j"
      },
      "execution_count": null,
      "outputs": []
    },
    {
      "cell_type": "markdown",
      "source": [
        "🌱 11. Ethical Reflection\n",
        "\n",
        "Bias & Fairness:\n",
        "If data mostly represents specific regions or crops, predictions might not generalize well. Including diverse regional data ensures fairness and broader usability.\n",
        "\n",
        "Sustainability Impact:\n",
        "Accurate predictions help reduce food waste, improve planning, and support smallholder farmers — directly contributing to Zero Hunger (SDG 2).\n",
        "\n",
        "🧭 12. Conclusion and Next Steps\n",
        "\n",
        "Summary:\n",
        "\n",
        "We used regression techniques to predict crop yields.\n",
        "\n",
        "Random Forest performed better than Linear Regression.\n",
        "\n",
        "The model can assist in agricultural decision-making and planning.\n",
        "\n",
        "Next Steps:\n",
        "\n",
        "Add real-time weather data via API (e.g., OpenWeatherMap).\n",
        "\n",
        "Test additional models like Gradient Boosting or XGBoost.\n",
        "\n",
        "Deploy the model via Streamlit for user interaction.\n",
        "\n",
        "🧮 13. Optional: Save Model"
      ],
      "metadata": {
        "id": "bNYlAfUROUXF"
      }
    },
    {
      "cell_type": "code",
      "source": [
        "import joblib\n",
        "joblib.dump(rf, \"crop_yield_model.pkl\")\n",
        "print(\"Model saved successfully!\")\n"
      ],
      "metadata": {
        "id": "mb_wGcOyOXiT"
      },
      "execution_count": null,
      "outputs": []
    }
  ]
}